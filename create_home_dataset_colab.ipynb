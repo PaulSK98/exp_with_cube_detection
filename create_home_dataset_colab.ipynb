{
  "nbformat": 4,
  "nbformat_minor": 0,
  "metadata": {
    "colab": {
      "provenance": [],
      "mount_file_id": "1MaGzDNU4APc_MFK34S_arE2VlaBK3ZcM",
      "authorship_tag": "ABX9TyPX4PnjZlN6pAm9vfmrjq5m",
      "include_colab_link": true
    },
    "kernelspec": {
      "name": "python3",
      "display_name": "Python 3"
    },
    "language_info": {
      "name": "python"
    },
    "gpuClass": "standard"
  },
  "cells": [
    {
      "cell_type": "markdown",
      "metadata": {
        "id": "view-in-github",
        "colab_type": "text"
      },
      "source": [
        "<a href=\"https://colab.research.google.com/github/PaulSK98/exp_with_cube_detection/blob/main/create_home_dataset_colab.ipynb\" target=\"_parent\"><img src=\"https://colab.research.google.com/assets/colab-badge.svg\" alt=\"Open In Colab\"/></a>"
      ]
    },
    {
      "cell_type": "code",
      "execution_count": 1,
      "metadata": {
        "id": "p-eOPum09mDu"
      },
      "outputs": [],
      "source": [
        "import argparse\n",
        "import cv2\n",
        "import os\n",
        "import numpy as np\n",
        "import random\n",
        "import math\n",
        "import sys\n",
        "import time\n",
        "import matplotlib.pyplot as plt \n",
        "\n"
      ]
    },
    {
      "cell_type": "markdown",
      "source": [
        "# parameter for image-augmentation"
      ],
      "metadata": {
        "id": "NPrRjM-_KY25"
      }
    },
    {
      "cell_type": "code",
      "source": [
        "NAMES = [ 'A', 'B', 'C', 'D', 'E', 'F', 'G', 'H', 'I', 'J',\n",
        "         'K', 'L', 'M', 'N', 'O', 'P', 'Q', 'R', 'S', 'T',\n",
        "         'U', 'V', 'W', 'X', 'Y', 'Z']\n",
        "\n",
        "cube_list = []\n",
        "cube_names = []\n",
        "background_list = []\n",
        "background_names = []\n",
        "\n",
        "NUM_TOTAL_VARIATIONS = 1000\n",
        "SAMPLES_PER_IMAGE = 30\n",
        "SAMPLE = True"
      ],
      "metadata": {
        "id": "v3iIL6U6KXra"
      },
      "execution_count": 2,
      "outputs": []
    },
    {
      "cell_type": "markdown",
      "source": [
        "# required functions "
      ],
      "metadata": {
        "id": "pU9oUEeoKAHe"
      }
    },
    {
      "cell_type": "code",
      "source": [
        "def load_images_from_folder(folder, images, names):\n",
        "    for filename in os.listdir(folder):\n",
        "        img = cv2.imread(os.path.join(folder,filename))\n",
        "        if img is not None:\n",
        "            img = cv2.cvtColor(img, cv2.COLOR_BGR2BGRA)\n",
        "            images.append(img)\n",
        "            names.append(filename)\n",
        "            #plt.imshow( img)\n",
        "            #plt.show()\n",
        "            \n",
        "    return images\n",
        "\n",
        "\n",
        "def rotation(image, angleInDegrees):\n",
        "    h, w = image.shape[:2]\n",
        "    img_c = (w / 2, h / 2)\n",
        "\n",
        "    rot = cv2.getRotationMatrix2D(img_c, 360-angleInDegrees, 1)\n",
        "\n",
        "    rad = math.radians(angleInDegrees)\n",
        "    sin = math.sin(rad)\n",
        "    cos = math.cos(rad)\n",
        "    b_w = int((h * abs(sin)) + (w * abs(cos)))\n",
        "    b_h = int((h * abs(cos)) + (w * abs(sin)))\n",
        "\n",
        "    rot[0, 2] += ((b_w / 2) - img_c[0])\n",
        "    rot[1, 2] += ((b_h / 2) - img_c[1])\n",
        "\n",
        "    outImg = cv2.warpAffine(image, rot, (b_w, b_h), flags=cv2.INTER_LINEAR)\n",
        "    return outImg\n",
        "\n",
        "#yolo annotation format, normal: [class, x_m, y_m, d_x, d_y], here: +angle \n",
        "def writeYOLOAnnotation(textfile, idx, bb, angle):\n",
        "    name_index = NAMES.index(os.path.splitext(cube_names[idx])[0])          \n",
        "    with open(textfile, 'a') as the_file:\n",
        "        the_file.write(str(name_index))\n",
        "        the_file.write(' ')\n",
        "        the_file.write(str(bb[0]))\n",
        "        the_file.write(' ')\n",
        "        the_file.write(str(bb[1]))\n",
        "        the_file.write(' ')\n",
        "        the_file.write(str(bb[2]))\n",
        "        the_file.write(' ')\n",
        "        the_file.write(str(bb[3]))\n",
        "        the_file.write(' ')\n",
        "        the_file.write(str(angle))\n",
        "        the_file.write('\\n')\n",
        "\n",
        "def writeYOLOAnnotation_without_rot(textfile, idx, bb):\n",
        "    name_index = NAMES.index(os.path.splitext(cube_names[idx])[0])          \n",
        "    with open(textfile, 'a') as the_file:\n",
        "        the_file.write(str(name_index))\n",
        "        the_file.write(' ')\n",
        "        the_file.write(str(bb[0]))\n",
        "        the_file.write(' ')\n",
        "        the_file.write(str(bb[1]))\n",
        "        the_file.write(' ')\n",
        "        the_file.write(str(bb[2]))\n",
        "        the_file.write(' ')\n",
        "        the_file.write(str(bb[3]))\n",
        "        the_file.write(' ')\n",
        "        the_file.write('\\n')\n",
        "\n",
        "def adjust_gamma(image, gamma=1.0):\n",
        "\t# build a lookup table mapping the pixel values [0, 255] to\n",
        "\t# their adjusted gamma values\n",
        "\tinvGamma = 1.0 / gamma\n",
        "\ttable = np.array([((i / 255.0) ** invGamma) * 255\n",
        "\t\tfor i in np.arange(0, 256)]).astype(\"uint8\")\n",
        "\t# apply gamma correction using the lookup table\n",
        "\treturn cv2.LUT(image, table)\n",
        "\n",
        "def updt(total, progress):\n",
        "    \"\"\"\n",
        "    Displays or updates a console progress bar.\n",
        "\n",
        "    Original source: https://stackoverflow.com/a/15860757/1391441\n",
        "    \"\"\"\n",
        "    barLength, status = 20, \"\"\n",
        "    progress = float(progress) / float(total)\n",
        "    if progress >= 1.:\n",
        "        progress, status = 1, \"\\r\\n\"\n",
        "    block = int(round(barLength * progress))\n",
        "    text = \"\\r[{}] {:.0f}% {}\".format(\n",
        "        \"#\" * block + \"-\" * (barLength - block), round(progress * 100, 0),\n",
        "        status)\n",
        "    sys.stdout.write(text)\n",
        "    sys.stdout.flush()"
      ],
      "metadata": {
        "id": "6NC0p5tPBjJF"
      },
      "execution_count": 3,
      "outputs": []
    },
    {
      "cell_type": "markdown",
      "source": [
        "# creating folder structure for image augumentation "
      ],
      "metadata": {
        "id": "kzBo8CzdKIiO"
      }
    },
    {
      "cell_type": "code",
      "source": [
        "folder_path = \"/content/base\"\n",
        "image_path = \"/content/base/images\"\n",
        "label_path = \"/content/base/labels\"\n",
        "cube_path = \"/content/base/cubes\"\n",
        "background_path = \"/content/base/backgrounds\"\n",
        "os.mkdir(folder_path)\n",
        "os.mkdir(image_path)\n",
        "os.mkdir(label_path)"
      ],
      "metadata": {
        "id": "pw83Tq4HHH6F"
      },
      "execution_count": 4,
      "outputs": []
    },
    {
      "cell_type": "markdown",
      "source": [
        "# erase folder structure (if necessary)"
      ],
      "metadata": {
        "id": "-o20g-3MNnvk"
      }
    },
    {
      "cell_type": "code",
      "source": [
        "import shutil\n",
        "if os.path.exists(image_path):\n",
        "    shutil.rmtree(image_path)\n",
        "os.mkdir(image_path)\n",
        "\n",
        "if os.path.exists(label_path):\n",
        "    shutil.rmtree(label_path)\n",
        "os.mkdir(label_path)"
      ],
      "metadata": {
        "id": "EK1XqfkyNSLz"
      },
      "execution_count": 10,
      "outputs": []
    },
    {
      "cell_type": "markdown",
      "source": [
        "# Unzipping of backgrounds and cubes "
      ],
      "metadata": {
        "id": "6XDI3MJ2JRgD"
      }
    },
    {
      "cell_type": "code",
      "source": [
        "%%capture\n",
        "!unzip \"/content/backgrounds.zip\" -d /content/base/"
      ],
      "metadata": {
        "id": "9JqSU9dmLH6k"
      },
      "execution_count": 5,
      "outputs": []
    },
    {
      "cell_type": "code",
      "source": [
        "%%capture\n",
        "!unzip \"/content/cubes.zip\" -d /content/base/"
      ],
      "metadata": {
        "id": "hU8gCY5yMpyk"
      },
      "execution_count": 6,
      "outputs": []
    },
    {
      "cell_type": "markdown",
      "source": [
        "# Creating the augumentated images "
      ],
      "metadata": {
        "id": "DIQun5c3J1na"
      }
    },
    {
      "cell_type": "code",
      "source": [
        "os.chdir('/content/base')"
      ],
      "metadata": {
        "id": "DIQigZjTEZd9"
      },
      "execution_count": 11,
      "outputs": []
    },
    {
      "cell_type": "code",
      "source": [
        "bg_rect = [100, 255, 1700, 700]\n",
        "folder=\"/content/base/backgrounds\"\n",
        "file_list=os.listdir(folder)\n",
        "file_list.remove(\".DS_Store\")\n",
        "cubes=load_images_from_folder(\"/content/base/cubes\", cube_list, cube_names)\n",
        "\n",
        "num_of_images=len(file_list)\n",
        "for i in range(NUM_TOTAL_VARIATIONS):\n",
        "\n",
        "    background_file_index=random.randint(0, (num_of_images-1))\n",
        "    background_img=cv2.imread(os.path.join(folder,file_list[background_file_index]))\n",
        "    background_img=cv2.cvtColor(background_img, cv2.COLOR_BGR2BGRA)\n",
        "    \n",
        "    if background_img.shape is not (1920, 1080):\n",
        "        background_img = cv2.resize(background_img, (1920, 1080), interpolation = cv2.INTER_AREA)\n",
        "    morphed_img=background_img.copy()\n",
        "\n",
        "    \n",
        "    image_name = str(i).zfill(8)\n",
        "    textfile_name = str(i).zfill(8) +\".txt\"\n",
        "    imagefile_name = str(i).zfill(8) +\".jpg\"\n",
        "\n",
        "    \n",
        "    num_of_samples = random.randint(1, 15)\n",
        "    for y in range(num_of_samples):\n",
        "        idx = random.randrange(len(cubes))\n",
        "        cube = cubes[idx]\n",
        "\n",
        "        ### RADNOM SCALING ###\n",
        "        scale_percent = random.randint(80,250)\n",
        "\n",
        "        #mu, sigma = 1, 0.1\n",
        "        #w = np.random.normal(mu, sigma, 1)\n",
        "        #h = np.random.normal(mu, sigma, 1)\n",
        "\n",
        "        width = int(cube.shape[1] * scale_percent  / 100)\n",
        "        height = int(cube.shape[0] * scale_percent / 100)\n",
        "        dim = (width, height)\n",
        "        \n",
        "        # resize image\n",
        "        cube = cv2.resize(cube, dim, interpolation = cv2.INTER_AREA)\n",
        "\n",
        "        ### RANDOM BLUR ###\n",
        "        if random.randint(0,1) == 1:\n",
        "            ksize = random.randint(1,10 )\n",
        "            if(ksize % 2 != 1):\n",
        "                ksize = ksize+1\n",
        "            cube = cv2.GaussianBlur(cube,(ksize,ksize),0)\n",
        "        \n",
        "        ### RANDOM ROTATING ###\n",
        "        rot_degree = random.randint(0,360)\n",
        "        (h, w) = cube.shape[:2]\n",
        "        (cX, cY) = (w // 2, h // 2)\n",
        "        rotated = rotation(cube, rot_degree)\n",
        "        rad = math.radians(rot_degree)\n",
        "        sin = math.sin(rad)\n",
        "        cos = math.cos(rad)\n",
        "\n",
        "        b_w = int((h * abs(sin)) + (w * abs(cos)))\n",
        "        b_h = int((h * abs(cos)) + (w * abs(sin)))\n",
        "\n",
        "        rand_pos = [random.randint(bg_rect[0], bg_rect[0]+ bg_rect[2]),random.randint(bg_rect[1], bg_rect[1]+ bg_rect[3])]\n",
        "\n",
        "        y1, y2 = int(rand_pos[1]-b_h/2),  int(rand_pos[1]+b_h/2)\n",
        "        x1, x2 = int(rand_pos[0]-b_w/2), int(rand_pos[0]+b_w/2)\n",
        "        y1_, y2_ = int(rand_pos[1]-h/2),  int(rand_pos[1]+h/2)\n",
        "        x1_, x2_ = int(rand_pos[0]-w/2), int(rand_pos[0]+w/2)\n",
        "\n",
        "        trans_indices = rotated[...,3] != 0 # Where not transparent\n",
        "        alpha_s = rotated[:, :, 3] / 255.0\n",
        "        alpha_l = 1.0 - alpha_s\n",
        "        \n",
        "        for c in range(0, 3):\n",
        "            morphed_img[y1:y2, x1:x2, c] = (alpha_s * rotated[:, :, c] + \n",
        "                                            alpha_l * morphed_img[y1:y2, x1:x2, c])\n",
        "\n",
        "        \n",
        "        bb = [(x1+(x2-x1)/2)/background_img.shape[1], (y1+(y2-y1)/2)/background_img.shape[0], (x2_-x1_)/background_img.shape[1], (y2_-y1_)/background_img.shape[0]]\n",
        "        \n",
        "        textfile = os.getcwd() + \"/labels/\" + textfile_name\n",
        "\n",
        "        writeYOLOAnnotation_without_rot(textfile, idx, bb)\n",
        "    \n",
        "     \n",
        "    if(num_of_samples == 0):\n",
        "        textfile = os.getcwd() + \"/labels/\" + textfile_name\n",
        "        with open(textfile, 'a') as the_file:\n",
        "            the_file.write(' ')\n",
        "    \n",
        "    file = os.getcwd() + \"/images/\" + imagefile_name\n",
        "    morphed_img_res = adjust_gamma(morphed_img, random.uniform(0.5,1.5))\n",
        "    morphed_img_res = cv2.resize(morphed_img_res, (854, 480))\n",
        "\n",
        "    cv2.imwrite(file, morphed_img_res)\n",
        "    updt(NUM_TOTAL_VARIATIONS, i)\n",
        "    \n",
        "print(\"\\n\")"
      ],
      "metadata": {
        "colab": {
          "base_uri": "https://localhost:8080/",
          "height": 436
        },
        "id": "8tT4kvx8CIay",
        "outputId": "ff74d8c5-88d8-4ba8-c6d1-daab3f6da166"
      },
      "execution_count": 12,
      "outputs": [
        {
          "output_type": "stream",
          "name": "stdout",
          "text": [
            "[--------------------] 0% "
          ]
        },
        {
          "output_type": "stream",
          "name": "stderr",
          "text": [
            "<>:14: SyntaxWarning: \"is not\" with a literal. Did you mean \"!=\"?\n",
            "<>:14: SyntaxWarning: \"is not\" with a literal. Did you mean \"!=\"?\n",
            "<ipython-input-12-6de7f95c8937>:14: SyntaxWarning: \"is not\" with a literal. Did you mean \"!=\"?\n",
            "  if background_img.shape is not (1920, 1080):\n"
          ]
        },
        {
          "output_type": "stream",
          "name": "stdout",
          "text": [
            "[#-------------------] 4% "
          ]
        },
        {
          "output_type": "error",
          "ename": "KeyboardInterrupt",
          "evalue": "ignored",
          "traceback": [
            "\u001b[0;31m---------------------------------------------------------------------------\u001b[0m",
            "\u001b[0;31mKeyboardInterrupt\u001b[0m                         Traceback (most recent call last)",
            "\u001b[0;32m<ipython-input-12-6de7f95c8937>\u001b[0m in \u001b[0;36m<module>\u001b[0;34m\u001b[0m\n\u001b[1;32m     89\u001b[0m \u001b[0;34m\u001b[0m\u001b[0m\n\u001b[1;32m     90\u001b[0m     \u001b[0mfile\u001b[0m \u001b[0;34m=\u001b[0m \u001b[0mos\u001b[0m\u001b[0;34m.\u001b[0m\u001b[0mgetcwd\u001b[0m\u001b[0;34m(\u001b[0m\u001b[0;34m)\u001b[0m \u001b[0;34m+\u001b[0m \u001b[0;34m\"/images/\"\u001b[0m \u001b[0;34m+\u001b[0m \u001b[0mimagefile_name\u001b[0m\u001b[0;34m\u001b[0m\u001b[0;34m\u001b[0m\u001b[0m\n\u001b[0;32m---> 91\u001b[0;31m     \u001b[0mmorphed_img_res\u001b[0m \u001b[0;34m=\u001b[0m \u001b[0madjust_gamma\u001b[0m\u001b[0;34m(\u001b[0m\u001b[0mmorphed_img\u001b[0m\u001b[0;34m,\u001b[0m \u001b[0mrandom\u001b[0m\u001b[0;34m.\u001b[0m\u001b[0muniform\u001b[0m\u001b[0;34m(\u001b[0m\u001b[0;36m0.5\u001b[0m\u001b[0;34m,\u001b[0m\u001b[0;36m1.5\u001b[0m\u001b[0;34m)\u001b[0m\u001b[0;34m)\u001b[0m\u001b[0;34m\u001b[0m\u001b[0;34m\u001b[0m\u001b[0m\n\u001b[0m\u001b[1;32m     92\u001b[0m     \u001b[0mmorphed_img_res\u001b[0m \u001b[0;34m=\u001b[0m \u001b[0mcv2\u001b[0m\u001b[0;34m.\u001b[0m\u001b[0mresize\u001b[0m\u001b[0;34m(\u001b[0m\u001b[0mmorphed_img_res\u001b[0m\u001b[0;34m,\u001b[0m \u001b[0;34m(\u001b[0m\u001b[0;36m854\u001b[0m\u001b[0;34m,\u001b[0m \u001b[0;36m480\u001b[0m\u001b[0;34m)\u001b[0m\u001b[0;34m)\u001b[0m\u001b[0;34m\u001b[0m\u001b[0;34m\u001b[0m\u001b[0m\n\u001b[1;32m     93\u001b[0m \u001b[0;34m\u001b[0m\u001b[0m\n",
            "\u001b[0;32m<ipython-input-3-2d97201bbf55>\u001b[0m in \u001b[0;36madjust_gamma\u001b[0;34m(image, gamma)\u001b[0m\n\u001b[1;32m     69\u001b[0m \t\tfor i in np.arange(0, 256)]).astype(\"uint8\")\n\u001b[1;32m     70\u001b[0m         \u001b[0;31m# apply gamma correction using the lookup table\u001b[0m\u001b[0;34m\u001b[0m\u001b[0;34m\u001b[0m\u001b[0;34m\u001b[0m\u001b[0m\n\u001b[0;32m---> 71\u001b[0;31m         \u001b[0;32mreturn\u001b[0m \u001b[0mcv2\u001b[0m\u001b[0;34m.\u001b[0m\u001b[0mLUT\u001b[0m\u001b[0;34m(\u001b[0m\u001b[0mimage\u001b[0m\u001b[0;34m,\u001b[0m \u001b[0mtable\u001b[0m\u001b[0;34m)\u001b[0m\u001b[0;34m\u001b[0m\u001b[0;34m\u001b[0m\u001b[0m\n\u001b[0m\u001b[1;32m     72\u001b[0m \u001b[0;34m\u001b[0m\u001b[0m\n\u001b[1;32m     73\u001b[0m \u001b[0;32mdef\u001b[0m \u001b[0mupdt\u001b[0m\u001b[0;34m(\u001b[0m\u001b[0mtotal\u001b[0m\u001b[0;34m,\u001b[0m \u001b[0mprogress\u001b[0m\u001b[0;34m)\u001b[0m\u001b[0;34m:\u001b[0m\u001b[0;34m\u001b[0m\u001b[0;34m\u001b[0m\u001b[0m\n",
            "\u001b[0;31mKeyboardInterrupt\u001b[0m: "
          ]
        }
      ]
    },
    {
      "cell_type": "code",
      "source": [
        "import os, shutil, random\n",
        "\n",
        "# preparing the folder structure\n",
        "\n",
        "full_data_path = '/content/base/images/'\n",
        "\n",
        "full_data_path_labels='/content/base/labels/'\n",
        "extension_allowed = '.jpg'\n",
        "split_percentage = 90\n",
        "\n"
      ],
      "metadata": {
        "id": "TGgsMHYHcf7f"
      },
      "execution_count": 13,
      "outputs": []
    },
    {
      "cell_type": "code",
      "source": [
        "content_path = '/content/Dataset/'\n",
        "os.mkdir(content_path)\n",
        "\n",
        "\n",
        "images_path = '/content/Dataset/images/'\n",
        "os.mkdir(images_path)\n",
        "    \n",
        "labels_path = '/content/Dataset/labels/'\n",
        "os.mkdir(labels_path)\n",
        "\n",
        "training_images_path = '/content/Dataset/images/train/'\n",
        "validation_images_path = '/content/Dataset/images/val/'\n",
        "training_labels_path = '/content/Dataset/labels/train/'\n",
        "validation_labels_path = '/content/Dataset/labels/val/'\n",
        "\n",
        "os.mkdir(training_images_path)\n",
        "os.mkdir(validation_images_path)\n",
        "os.mkdir(training_labels_path)\n",
        "os.mkdir(validation_labels_path)"
      ],
      "metadata": {
        "id": "HVFgl6a5lCmk"
      },
      "execution_count": 14,
      "outputs": []
    },
    {
      "cell_type": "code",
      "source": [
        "files = []\n",
        "ext_len = len(extension_allowed)\n",
        "\n",
        "\n",
        "for r, d, f in os.walk(full_data_path):\n",
        "    for file in f:\n",
        "        if file.endswith(extension_allowed):\n",
        "            strip = file[0:len(file) - ext_len]      \n",
        "            files.append(strip)\n",
        "\n",
        "#random.shuffle(files)\n",
        "\n",
        "size = len(files)                   \n",
        "\n",
        "split = int(split_percentage * size / 100)\n",
        "\n",
        "print(\"copying training data\")\n",
        "for i in range(split):\n",
        "    strip = files[i]\n",
        "                         \n",
        "    image_file = strip + extension_allowed\n",
        "    src_image = full_data_path + image_file\n",
        "    #shutil.copy(src_image, training_images_path) \n",
        "    shutil.move(src_image, training_images_path) \n",
        "                         \n",
        "    annotation_file = strip + '.txt'\n",
        "    src_label = full_data_path_labels + annotation_file\n",
        "    #shutil.copy(src_label, training_labels_path) \n",
        "    shutil.move(src_label, training_labels_path) \n",
        "\n",
        "print(\"copying validation data\")\n",
        "for i in range(split, size):\n",
        "    strip = files[i]\n",
        "                         \n",
        "    image_file = strip + extension_allowed\n",
        "    src_image = full_data_path + image_file\n",
        "    #shutil.copy(src_image, validation_images_path) \n",
        "    shutil.move(src_image, validation_images_path) \n",
        "    \n",
        "                         \n",
        "    annotation_file = strip + '.txt'\n",
        "    src_label = full_data_path_labels + annotation_file\n",
        "    #shutil.copy(src_label, validation_labels_path) \n",
        "    shutil.move(src_label, validation_labels_path) \n",
        "\n",
        "print(\"finished\")"
      ],
      "metadata": {
        "colab": {
          "base_uri": "https://localhost:8080/"
        },
        "id": "oDsyVeWpgi8U",
        "outputId": "01dd6cc6-0d31-4e30-d0aa-4f8052efbc1d"
      },
      "execution_count": 15,
      "outputs": [
        {
          "output_type": "stream",
          "name": "stdout",
          "text": [
            "copying training data\n",
            "copying validation data\n",
            "finished\n"
          ]
        }
      ]
    }
  ]
}